{
 "cells": [
  {
   "metadata": {},
   "cell_type": "markdown",
   "source": "# Text Splitting",
   "id": "f506b356bc37f11"
  },
  {
   "metadata": {},
   "cell_type": "markdown",
   "source": "## Libraries",
   "id": "4b05b9d9cb2cc1a"
  },
  {
   "metadata": {
    "ExecuteTime": {
     "end_time": "2024-04-18T20:33:55.826198Z",
     "start_time": "2024-04-18T20:33:55.539092Z"
    }
   },
   "cell_type": "code",
   "source": [
    "from langchain.embeddings import GPT4AllEmbeddings\n",
    "from langchain_experimental.text_splitter import SemanticChunker\n",
    "from langchain.text_splitter import RecursiveCharacterTextSplitter, CharacterTextSplitter, Language"
   ],
   "id": "initial_id",
   "outputs": [],
   "execution_count": 1
  },
  {
   "metadata": {},
   "cell_type": "markdown",
   "source": "## Corpus",
   "id": "76150b70919ac117"
  },
  {
   "metadata": {
    "ExecuteTime": {
     "end_time": "2024-04-18T20:33:55.830206Z",
     "start_time": "2024-04-18T20:33:55.827996Z"
    }
   },
   "cell_type": "code",
   "source": [
    "with open(\"../../datasets/raw/TheAdventuresofPinocchio.txt\") as f:\n",
    "    corpus = f.read()"
   ],
   "id": "80f2196a842f67b2",
   "outputs": [],
   "execution_count": 2
  },
  {
   "metadata": {},
   "cell_type": "markdown",
   "source": "## Fixed Character Text Splitting",
   "id": "8f69f9600558615b"
  },
  {
   "metadata": {
    "ExecuteTime": {
     "end_time": "2024-04-18T20:33:55.832837Z",
     "start_time": "2024-04-18T20:33:55.830896Z"
    }
   },
   "cell_type": "code",
   "source": [
    "text_splitter = CharacterTextSplitter(\n",
    "    separator=\" \", # To avoid splitting in the middle of a word\n",
    "    chunk_size=150,\n",
    "    chunk_overlap=20,\n",
    "    length_function=len,\n",
    "    is_separator_regex=False,\n",
    ")"
   ],
   "id": "da98a78d36666f48",
   "outputs": [],
   "execution_count": 3
  },
  {
   "metadata": {
    "ExecuteTime": {
     "end_time": "2024-04-18T20:33:55.860169Z",
     "start_time": "2024-04-18T20:33:55.834297Z"
    }
   },
   "cell_type": "code",
   "source": "texts = text_splitter.create_documents([corpus])",
   "id": "e2c6145318a047e0",
   "outputs": [],
   "execution_count": 4
  },
  {
   "metadata": {
    "ExecuteTime": {
     "end_time": "2024-04-18T20:33:55.865408Z",
     "start_time": "2024-04-18T20:33:55.861852Z"
    }
   },
   "cell_type": "code",
   "source": [
    "print(texts[0])\n",
    "print(texts[1])"
   ],
   "id": "68f07454e67763b7",
   "outputs": [
    {
     "name": "stdout",
     "output_type": "stream",
     "text": [
      "page_content='The Project Gutenberg eBook of The Adventures of Pinocchio\\n\\nThis ebook is for the use of anyone anywhere in the United States and\\nmost other parts of'\n",
      "page_content='other parts of the world at no cost and with almost no restrictions\\nwhatsoever. You may copy it, give it away or re-use it under the terms\\nof the'\n"
     ]
    }
   ],
   "execution_count": 5
  },
  {
   "metadata": {},
   "cell_type": "markdown",
   "source": "## Recursive Character Splitting",
   "id": "4734b710d725e746"
  },
  {
   "metadata": {
    "ExecuteTime": {
     "end_time": "2024-04-18T20:33:55.869962Z",
     "start_time": "2024-04-18T20:33:55.866827Z"
    }
   },
   "cell_type": "code",
   "source": [
    "text_splitter = RecursiveCharacterTextSplitter(\n",
    "    chunk_size=100, # Set a small chunk size, just to show.\n",
    "    chunk_overlap=20,\n",
    "    length_function=len,\n",
    "    is_separator_regex=False,\n",
    ")"
   ],
   "id": "43953a535715f53c",
   "outputs": [],
   "execution_count": 6
  },
  {
   "metadata": {
    "ExecuteTime": {
     "end_time": "2024-04-18T20:33:55.912574Z",
     "start_time": "2024-04-18T20:33:55.871184Z"
    }
   },
   "cell_type": "code",
   "source": "texts = text_splitter.create_documents([corpus])",
   "id": "3e4f131da45d66f0",
   "outputs": [],
   "execution_count": 7
  },
  {
   "metadata": {
    "ExecuteTime": {
     "end_time": "2024-04-18T20:33:55.917183Z",
     "start_time": "2024-04-18T20:33:55.913825Z"
    }
   },
   "cell_type": "code",
   "source": [
    "print(texts[0])\n",
    "print(texts[1])"
   ],
   "id": "bb2ffa0a4d35c47e",
   "outputs": [
    {
     "name": "stdout",
     "output_type": "stream",
     "text": [
      "page_content='The Project Gutenberg eBook of The Adventures of Pinocchio'\n",
      "page_content='This ebook is for the use of anyone anywhere in the United States and'\n"
     ]
    }
   ],
   "execution_count": 8
  },
  {
   "metadata": {},
   "cell_type": "markdown",
   "source": "## Document Based",
   "id": "aaf82269d176291c"
  },
  {
   "metadata": {},
   "cell_type": "markdown",
   "source": "### Python Code",
   "id": "5f45bfa44fbf84c8"
  },
  {
   "metadata": {
    "ExecuteTime": {
     "end_time": "2024-04-18T20:33:55.921349Z",
     "start_time": "2024-04-18T20:33:55.919061Z"
    }
   },
   "cell_type": "code",
   "source": [
    "PYTHON_CODE = \"\"\"\n",
    "def hello_world() -> None:\n",
    "    print(\"Hello, World!\")\n",
    "\n",
    "if __name__ == \"__main__\":\n",
    "    hello_world()\n",
    "\"\"\""
   ],
   "id": "e8e26ed70299965a",
   "outputs": [],
   "execution_count": 9
  },
  {
   "metadata": {
    "ExecuteTime": {
     "end_time": "2024-04-18T20:33:55.955042Z",
     "start_time": "2024-04-18T20:33:55.924504Z"
    }
   },
   "cell_type": "code",
   "source": [
    "python_splitter = RecursiveCharacterTextSplitter.from_language(\n",
    "    language=Language.PYTHON, chunk_size=50, chunk_overlap=0\n",
    ")\n",
    "python_docs = python_splitter.create_documents([PYTHON_CODE])\n",
    "python_docs"
   ],
   "id": "ff161d8f8045b6fb",
   "outputs": [
    {
     "data": {
      "text/plain": [
       "[Document(page_content='def hello_world() -> None:'),\n",
       " Document(page_content='print(\"Hello, World!\")'),\n",
       " Document(page_content='if __name__ == \"__main__\":\\n    hello_world()')]"
      ]
     },
     "execution_count": 10,
     "metadata": {},
     "output_type": "execute_result"
    }
   ],
   "execution_count": 10
  },
  {
   "metadata": {},
   "cell_type": "markdown",
   "source": "### Scala Code",
   "id": "f6a7d0e4e55a7af4"
  },
  {
   "metadata": {
    "ExecuteTime": {
     "end_time": "2024-04-18T20:33:55.959886Z",
     "start_time": "2024-04-18T20:33:55.956982Z"
    }
   },
   "cell_type": "code",
   "source": [
    "SCALA_CODE = \"\"\"\n",
    "package enough.scala.spark\n",
    "package get_started\n",
    "\n",
    "import org.apache.spark.sql.types._\n",
    "\n",
    "object Schema extends SparkSessionWrapper {\n",
    "  def main(args: Array[String]): Unit = {\n",
    "//  Without Inferring Schema\n",
    "    var df = spark.read\n",
    "      .option(\"header\", true)\n",
    "      .csv(\"data/raw/AAPL.csv\")\n",
    "    df.printSchema()\n",
    "\n",
    "//  Inferring Schema\n",
    "    df = spark.read\n",
    "      .option(\"header\", true)\n",
    "      .option(\"inferSchema\", true)\n",
    "      .csv(\"data/raw/AAPL.csv\")\n",
    "\n",
    "    df.printSchema()\n",
    "\n",
    "//  Define Schema\n",
    "    val schema = StructType(\n",
    "      Array(\n",
    "        StructField(\"Date\", DateType, true),\n",
    "        StructField(\"Open\", DoubleType, true),\n",
    "        StructField(\"High\", DoubleType, true),\n",
    "        StructField(\"Low\", DoubleType, true),\n",
    "        StructField(\"Close\", DoubleType, true),\n",
    "        StructField(\"Volume\", DoubleType, true)))\n",
    "\n",
    "    df = spark.read\n",
    "      .option(\"header\", true)\n",
    "      .schema(schema)\n",
    "      .csv(\"data/raw/AAPL.csv\")\n",
    "    df.printSchema()\n",
    "  }\n",
    "}\n",
    "\"\"\""
   ],
   "id": "f632ff80664f3eba",
   "outputs": [],
   "execution_count": 11
  },
  {
   "metadata": {
    "ExecuteTime": {
     "end_time": "2024-04-18T20:33:55.964879Z",
     "start_time": "2024-04-18T20:33:55.961235Z"
    }
   },
   "cell_type": "code",
   "source": [
    "scala_splitter = RecursiveCharacterTextSplitter.from_language(\n",
    "    language=Language.SCALA, chunk_size=50, chunk_overlap=0\n",
    ")\n",
    "scala_docs = python_splitter.create_documents([SCALA_CODE])\n",
    "scala_docs[0:5]"
   ],
   "id": "c1502cb33eb544ca",
   "outputs": [
    {
     "data": {
      "text/plain": [
       "[Document(page_content='package enough.scala.spark\\npackage get_started'),\n",
       " Document(page_content='import org.apache.spark.sql.types._'),\n",
       " Document(page_content='object Schema extends SparkSessionWrapper {'),\n",
       " Document(page_content='def main(args: Array[String]): Unit = {'),\n",
       " Document(page_content='//  Without Inferring Schema')]"
      ]
     },
     "execution_count": 12,
     "metadata": {},
     "output_type": "execute_result"
    }
   ],
   "execution_count": 12
  },
  {
   "metadata": {},
   "cell_type": "markdown",
   "source": "### HTML",
   "id": "cd91004c7e922691"
  },
  {
   "metadata": {
    "ExecuteTime": {
     "end_time": "2024-04-18T20:33:55.968607Z",
     "start_time": "2024-04-18T20:33:55.966347Z"
    }
   },
   "cell_type": "code",
   "source": [
    "with open(\"../../datasets/raw/medium_blog.html\") as f:\n",
    "    html_corpus = f.read()"
   ],
   "id": "96a367b8be794d75",
   "outputs": [],
   "execution_count": 13
  },
  {
   "metadata": {
    "ExecuteTime": {
     "end_time": "2024-04-18T20:33:56.001842Z",
     "start_time": "2024-04-18T20:33:55.969716Z"
    }
   },
   "cell_type": "code",
   "source": [
    "html_splitter = RecursiveCharacterTextSplitter.from_language(\n",
    "    language=Language.HTML, chunk_size=50, chunk_overlap=0\n",
    ")\n",
    "html_docs = python_splitter.create_documents([html_corpus])\n",
    "html_docs[0:5]"
   ],
   "id": "f69a7aaa7bd34995",
   "outputs": [
    {
     "data": {
      "text/plain": [
       "[Document(page_content='<!doctype html><html lang=\"en\"><head><title'),\n",
       " Document(page_content='data-rh=\"true\">Effortless Document Extraction: A'),\n",
       " Document(page_content='Guide to Using Unstructured API and Data'),\n",
       " Document(page_content='Connectors | by Unstructured | Unstructured |'),\n",
       " Document(page_content='Medium</title><meta data-rh=\"true\"')]"
      ]
     },
     "execution_count": 14,
     "metadata": {},
     "output_type": "execute_result"
    }
   ],
   "execution_count": 14
  },
  {
   "metadata": {},
   "cell_type": "markdown",
   "source": "### Markdown",
   "id": "c420b7323a692d93"
  },
  {
   "metadata": {
    "ExecuteTime": {
     "end_time": "2024-04-18T20:33:56.005160Z",
     "start_time": "2024-04-18T20:33:56.002909Z"
    }
   },
   "cell_type": "code",
   "source": [
    "with open(\"../../README.md\") as f:\n",
    "    mkdown_corpus = f.read()"
   ],
   "id": "c1afdbedf531a8d",
   "outputs": [],
   "execution_count": 15
  },
  {
   "metadata": {
    "ExecuteTime": {
     "end_time": "2024-04-18T20:33:56.009254Z",
     "start_time": "2024-04-18T20:33:56.006088Z"
    }
   },
   "cell_type": "code",
   "source": [
    "mkdown_splitter = RecursiveCharacterTextSplitter.from_language(\n",
    "    language=Language.MARKDOWN, chunk_size=50, chunk_overlap=0\n",
    ")\n",
    "mkdown_docs = python_splitter.create_documents([mkdown_corpus])\n",
    "mkdown_docs[0:5]"
   ],
   "id": "7ee8a6a355a90a17",
   "outputs": [
    {
     "data": {
      "text/plain": [
       "[Document(page_content='# Advanced Retrieval Methods for RAG'),\n",
       " Document(page_content='## Introduction'),\n",
       " Document(page_content='This repository contains the code for carrying'),\n",
       " Document(page_content='out different \"Advanced Retrieval Methods for'),\n",
       " Document(page_content='RAG\" such as')]"
      ]
     },
     "execution_count": 16,
     "metadata": {},
     "output_type": "execute_result"
    }
   ],
   "execution_count": 16
  },
  {
   "metadata": {},
   "cell_type": "markdown",
   "source": "### Other languages",
   "id": "7b928ccb9774c902"
  },
  {
   "metadata": {
    "ExecuteTime": {
     "end_time": "2024-04-18T20:33:56.013305Z",
     "start_time": "2024-04-18T20:33:56.010211Z"
    }
   },
   "cell_type": "code",
   "source": "[lang for lang in Language]",
   "id": "1bf49ca1d6492e14",
   "outputs": [
    {
     "data": {
      "text/plain": [
       "[<Language.CPP: 'cpp'>,\n",
       " <Language.GO: 'go'>,\n",
       " <Language.JAVA: 'java'>,\n",
       " <Language.KOTLIN: 'kotlin'>,\n",
       " <Language.JS: 'js'>,\n",
       " <Language.TS: 'ts'>,\n",
       " <Language.PHP: 'php'>,\n",
       " <Language.PROTO: 'proto'>,\n",
       " <Language.PYTHON: 'python'>,\n",
       " <Language.RST: 'rst'>,\n",
       " <Language.RUBY: 'ruby'>,\n",
       " <Language.RUST: 'rust'>,\n",
       " <Language.SCALA: 'scala'>,\n",
       " <Language.SWIFT: 'swift'>,\n",
       " <Language.MARKDOWN: 'markdown'>,\n",
       " <Language.LATEX: 'latex'>,\n",
       " <Language.HTML: 'html'>,\n",
       " <Language.SOL: 'sol'>,\n",
       " <Language.CSHARP: 'csharp'>,\n",
       " <Language.COBOL: 'cobol'>,\n",
       " <Language.C: 'c'>,\n",
       " <Language.LUA: 'lua'>,\n",
       " <Language.PERL: 'perl'>]"
      ]
     },
     "execution_count": 17,
     "metadata": {},
     "output_type": "execute_result"
    }
   ],
   "execution_count": 17
  },
  {
   "metadata": {},
   "cell_type": "markdown",
   "source": [
    "\n",
    "## Semantic Chunking\n",
    "\n",
    "This chunking strategy requires an embeddings model, in this case `all-MiniLM-L6-v2-f16.gguf` from [ChatGPT4All](https://gpt4all.io/index.html) was used."
   ],
   "id": "dfb7553900713b1c"
  },
  {
   "metadata": {
    "ExecuteTime": {
     "end_time": "2024-04-18T20:33:56.180574Z",
     "start_time": "2024-04-18T20:33:56.014180Z"
    }
   },
   "cell_type": "code",
   "source": "model = GPT4AllEmbeddings()",
   "id": "17adeb14dc26828b",
   "outputs": [],
   "execution_count": 18
  },
  {
   "metadata": {
    "ExecuteTime": {
     "end_time": "2024-04-18T20:34:06.103498Z",
     "start_time": "2024-04-18T20:33:56.181143Z"
    }
   },
   "cell_type": "code",
   "source": [
    "text_splitter = SemanticChunker(model, breakpoint_threshold_type=\"percentile\")\n",
    "docs = text_splitter.create_documents([corpus])"
   ],
   "id": "c0c7bc84f0751b6d",
   "outputs": [],
   "execution_count": 19
  },
  {
   "metadata": {
    "ExecuteTime": {
     "end_time": "2024-04-18T20:34:06.105683Z",
     "start_time": "2024-04-18T20:34:06.104077Z"
    }
   },
   "cell_type": "code",
   "source": "print(docs[0].page_content)",
   "id": "22c470f32d968ac9",
   "outputs": [
    {
     "name": "stdout",
     "output_type": "stream",
     "text": [
      "The Project Gutenberg eBook of The Adventures of Pinocchio\n",
      "\n",
      "This ebook is for the use of anyone anywhere in the United States and\n",
      "most other parts of the world at no cost and with almost no restrictions\n",
      "whatsoever. You may copy it, give it away or re-use it under the terms\n",
      "of the Project Gutenberg License included with this ebook or online\n",
      "at www.gutenberg.org. If you are not located in the United States,\n",
      "you will have to check the laws of the country where you are located\n",
      "before using this eBook. Title: The Adventures of Pinocchio\n",
      "\n",
      "Author: Carlo Collodi\n",
      "\n",
      "Translator: Carol Della Chiesa\n",
      "\n",
      "Release date: January 12, 2006 [eBook #500]\n",
      "                Most recently updated: September 28, 2020\n",
      "\n",
      "Language: English\n",
      "\n",
      "Credits: Produced by Charles Keller (for Tina); and David Widger\n",
      "\n",
      "\n",
      "*** START OF THE PROJECT GUTENBERG EBOOK THE ADVENTURES OF PINOCCHIO ***\n",
      "\n",
      "\n",
      "\n",
      "\n",
      "Produced by Charles Keller (for Tina); and David Widger\n",
      "\n",
      "\n",
      "\n",
      "\n",
      "\n",
      "\n",
      "\n",
      "Dashes; small checks; quick pass; gutchecked twice; jeebies; spellcheck\n",
      "\n",
      "\n",
      "THE ADVENTURES OF PINOCCHIO\n",
      "\n",
      "by C. Collodi\n",
      "\n",
      "[Pseudonym of Carlo Lorenzini]\n",
      "\n",
      "\n",
      "Translated from the Italian by Carol Della Chiesa\n",
      "\n",
      "\n",
      "\n",
      "\n",
      "CHAPTER 1\n",
      "\n",
      "How it happened that Mastro Cherry, carpenter, found a piece of wood\n",
      "that wept and laughed like a child. Centuries ago there lived--\n",
      "\n",
      "“A king!” my little readers will say immediately.\n"
     ]
    }
   ],
   "execution_count": 20
  },
  {
   "metadata": {
    "ExecuteTime": {
     "end_time": "2024-04-18T20:34:06.107864Z",
     "start_time": "2024-04-18T20:34:06.106320Z"
    }
   },
   "cell_type": "code",
   "source": "print(len(docs))",
   "id": "50d7d47ae245015c",
   "outputs": [
    {
     "name": "stdout",
     "output_type": "stream",
     "text": [
      "117\n"
     ]
    }
   ],
   "execution_count": 21
  },
  {
   "metadata": {
    "ExecuteTime": {
     "end_time": "2024-04-18T20:34:15.837241Z",
     "start_time": "2024-04-18T20:34:06.108385Z"
    }
   },
   "cell_type": "code",
   "source": [
    "text_splitter = SemanticChunker(model, breakpoint_threshold_type=\"standard_deviation\")\n",
    "docs = text_splitter.create_documents([corpus])"
   ],
   "id": "350f60133415501b",
   "outputs": [],
   "execution_count": 22
  },
  {
   "metadata": {
    "ExecuteTime": {
     "end_time": "2024-04-18T20:34:15.839805Z",
     "start_time": "2024-04-18T20:34:15.837878Z"
    }
   },
   "cell_type": "code",
   "source": "print(docs[0].page_content)",
   "id": "372d774e495e4071",
   "outputs": [
    {
     "name": "stdout",
     "output_type": "stream",
     "text": [
      "The Project Gutenberg eBook of The Adventures of Pinocchio\n",
      "\n",
      "This ebook is for the use of anyone anywhere in the United States and\n",
      "most other parts of the world at no cost and with almost no restrictions\n",
      "whatsoever. You may copy it, give it away or re-use it under the terms\n",
      "of the Project Gutenberg License included with this ebook or online\n",
      "at www.gutenberg.org. If you are not located in the United States,\n",
      "you will have to check the laws of the country where you are located\n",
      "before using this eBook. Title: The Adventures of Pinocchio\n",
      "\n",
      "Author: Carlo Collodi\n",
      "\n",
      "Translator: Carol Della Chiesa\n",
      "\n",
      "Release date: January 12, 2006 [eBook #500]\n",
      "                Most recently updated: September 28, 2020\n",
      "\n",
      "Language: English\n",
      "\n",
      "Credits: Produced by Charles Keller (for Tina); and David Widger\n",
      "\n",
      "\n",
      "*** START OF THE PROJECT GUTENBERG EBOOK THE ADVENTURES OF PINOCCHIO ***\n",
      "\n",
      "\n",
      "\n",
      "\n",
      "Produced by Charles Keller (for Tina); and David Widger\n",
      "\n",
      "\n",
      "\n",
      "\n",
      "\n",
      "\n",
      "\n",
      "Dashes; small checks; quick pass; gutchecked twice; jeebies; spellcheck\n",
      "\n",
      "\n",
      "THE ADVENTURES OF PINOCCHIO\n",
      "\n",
      "by C. Collodi\n",
      "\n",
      "[Pseudonym of Carlo Lorenzini]\n",
      "\n",
      "\n",
      "Translated from the Italian by Carol Della Chiesa\n",
      "\n",
      "\n",
      "\n",
      "\n",
      "CHAPTER 1\n",
      "\n",
      "How it happened that Mastro Cherry, carpenter, found a piece of wood\n",
      "that wept and laughed like a child. Centuries ago there lived--\n",
      "\n",
      "“A king!” my little readers will say immediately. No, children, you are mistaken. Once upon a time there was a piece of\n",
      "wood. It was not an expensive piece of wood. Far from it. Just a common\n",
      "block of firewood, one of those thick, solid logs that are put on the\n",
      "fire in winter to make cold rooms cozy and warm. I do not know how this really happened, yet the fact remains that\n",
      "one fine day this piece of wood found itself in the shop of an old\n",
      "carpenter. His real name was Mastro Antonio, but everyone called him\n",
      "Mastro Cherry, for the tip of his nose was so round and red and shiny\n",
      "that it looked like a ripe cherry. As soon as he saw that piece of wood, Mastro Cherry was filled with joy. Rubbing his hands together happily, he mumbled half to himself:\n",
      "\n",
      "“This has come in the nick of time. I shall use it to make the leg of a\n",
      "table.”\n",
      "\n",
      "He grasped the hatchet quickly to peel off the bark and shape the wood. But as he was about to give it the first blow, he stood still with arm\n",
      "uplifted, for he had heard a wee, little voice say in a beseeching tone:\n",
      "“Please be careful! Do not hit me so hard!”\n",
      "\n",
      "What a look of surprise shone on Mastro Cherry’s face! His funny face\n",
      "became still funnier. He turned frightened eyes about the room to find out where that wee,\n",
      "little voice had come from and he saw no one! He looked under the\n",
      "bench--no one! He peeped inside the closet--no one! He searched among\n",
      "the shavings--no one! He opened the door to look up and down the\n",
      "street--and still no one! “Oh, I see!” he then said, laughing and scratching his Wig. “It can\n",
      "easily be seen that I only thought I heard the tiny voice say the words! Well, well--to work once more.”\n",
      "\n",
      "He struck a most solemn blow upon the piece of wood. “Oh, oh! You hurt!” cried the same far-away little voice. Mastro Cherry grew dumb, his eyes popped out of his head, his mouth\n",
      "opened wide, and his tongue hung down on his chin. As soon as he regained the use of his senses, he said, trembling and\n",
      "stuttering from fright:\n",
      "\n",
      "“Where did that voice come from, when there is no one around? Might it\n",
      "be that this piece of wood has learned to weep and cry like a child? I\n",
      "can hardly believe it. Here it is--a piece of common firewood, good\n",
      "only to burn in the stove, the same as any other. Yet--might someone be\n",
      "hidden in it? If so, the worse for him. I’ll fix him!”\n",
      "\n",
      "With these words, he grabbed the log with both hands and started to\n",
      "knock it about unmercifully. He threw it to the floor, against the walls\n",
      "of the room, and even up to the ceiling. He listened for the tiny voice to moan and cry. He waited two\n",
      "minutes--nothing; five minutes--nothing; ten minutes--nothing. “Oh, I see,” he said, trying bravely to laugh and ruffling up his wig\n",
      "with his hand. “It can easily be seen I only imagined I heard the tiny\n",
      "voice! Well, well--to work once more!”\n",
      "\n",
      "The poor fellow was scared half to death, so he tried to sing a gay song\n",
      "in order to gain courage. He set aside the hatchet and picked up the plane to make the wood smooth\n",
      "and even, but as he drew it to and fro, he heard the same tiny voice. This time it giggled as it spoke:\n",
      "\n",
      "“Stop it! Oh, stop it! Ha, ha, ha! You tickle my stomach.”\n",
      "\n",
      "This time poor Mastro Cherry fell as if shot. When he opened his eyes,\n",
      "he found himself sitting on the floor. His face had changed; fright had turned even the tip of his nose from\n",
      "red to deepest purple. CHAPTER 2\n",
      "\n",
      "Mastro Cherry gives the piece of wood to his friend Geppetto, who\n",
      "takes it to make himself a Marionette that will dance, fence, and turn\n",
      "somersaults. In that very instant, a loud knock sounded on the door. “Come in,” said\n",
      "the carpenter, not having an atom of strength left with which to stand\n",
      "up. At the words, the door opened and a dapper little old man came in. His name was Geppetto, but to the boys of the neighborhood he was\n",
      "Polendina,* on account of the wig he always wore which was just the\n",
      "color of yellow corn. * Cornmeal mush\n",
      "\n",
      "Geppetto had a very bad temper. Woe to the one who called him Polendina! He became as wild as a beast and no one could soothe him. “Good day, Mastro Antonio,” said Geppetto. “What are you doing on the\n",
      "floor?”\n",
      "\n",
      "“I am teaching the ants their A B C’s.”\n",
      "\n",
      "“Good luck to you!”\n",
      "\n",
      "“What brought you here, friend Geppetto?”\n",
      "\n",
      "“My legs. And it may flatter you to know, Mastro Antonio, that I have\n",
      "come to you to beg for a favor.”\n",
      "\n",
      "“Here I am, at your service,” answered the carpenter, raising himself on\n",
      "to his knees. “This morning a fine idea came to me.”\n",
      "\n",
      "“Let’s hear it.”\n",
      "\n",
      "“I thought of making myself a beautiful wooden Marionette. It must be\n",
      "wonderful, one that will be able to dance, fence, and turn somersaults. With it I intend to go around the world, to earn my crust of bread and\n",
      "cup of wine. What do you think of it?”\n",
      "\n",
      "“Bravo, Polendina!” cried the same tiny voice which came from no one\n",
      "knew where. On hearing himself called Polendina, Mastro Geppetto turned the color of\n",
      "a red pepper and, facing the carpenter, said to him angrily:\n",
      "\n",
      "“Why do you insult me?”\n",
      "\n",
      "“Who is insulting you?”\n",
      "\n",
      "“You called me Polendina.”\n",
      "\n",
      "“I did not.”\n",
      "\n",
      "“I suppose you think _I_ did! Yet I KNOW it was you.”\n",
      "\n",
      "“No!”\n",
      "\n",
      "“Yes!”\n",
      "\n",
      "“No!”\n",
      "\n",
      "“Yes!”\n",
      "\n",
      "And growing angrier each moment, they went from words to blows, and\n",
      "finally began to scratch and bite and slap each other. When the fight was over, Mastro Antonio had Geppetto’s yellow wig in his\n",
      "hands and Geppetto found the carpenter’s curly wig in his mouth. “Give me back my wig!” shouted Mastro Antonio in a surly voice. “You return mine and we’ll be friends.”\n",
      "\n",
      "The two little old men, each with his own wig back on his own head,\n",
      "shook hands and swore to be good friends for the rest of their lives. “Well then, Mastro Geppetto,” said the carpenter, to show he bore him no\n",
      "ill will, “what is it you want?”\n",
      "\n",
      "“I want a piece of wood to make a Marionette. Will you give it to me?”\n",
      "\n",
      "Mastro Antonio, very glad indeed, went immediately to his bench to get\n",
      "the piece of wood which had frightened him so much. But as he was about\n",
      "to give it to his friend, with a violent jerk it slipped out of his\n",
      "hands and hit against poor Geppetto’s thin legs. “Ah! Is this the gentle way, Mastro Antonio, in which you make your\n",
      "gifts? You have made me almost lame!”\n",
      "\n",
      "“I swear to you I did not do it!”\n",
      "\n",
      "“It was _I_, of course!”\n",
      "\n",
      "“It’s the fault of this piece of wood.”\n",
      "\n",
      "“You’re right; but remember you were the one to throw it at my legs.”\n",
      "\n",
      "“I did not throw it!”\n",
      "\n",
      "“Liar!”\n",
      "\n",
      "“Geppetto, do not insult me or I shall call you Polendina.”\n",
      "\n",
      "“Idiot.”\n",
      "\n",
      "“Polendina!”\n",
      "\n",
      "“Donkey!”\n",
      "\n",
      "“Polendina!”\n",
      "\n",
      "“Ugly monkey!”\n",
      "\n",
      "“Polendina!”\n",
      "\n",
      "On hearing himself called Polendina for the third time, Geppetto lost\n",
      "his head with rage and threw himself upon the carpenter. Then and there\n",
      "they gave each other a sound thrashing. After this fight, Mastro Antonio had two more scratches on his nose,\n",
      "and Geppetto had two buttons missing from his coat. Thus having settled\n",
      "their accounts, they shook hands and swore to be good friends for the\n",
      "rest of their lives. Then Geppetto took the fine piece of wood, thanked Mastro Antonio, and\n",
      "limped away toward home. CHAPTER 3\n",
      "\n",
      "As soon as he gets home, Geppetto fashions the Marionette and calls it\n",
      "Pinocchio. The first pranks  of the Marionette. Little as Geppetto’s house was, it was neat and comfortable. It was a\n",
      "small room on the ground floor, with a tiny window under the stairway. The furniture could not have been much simpler: a very old chair, a\n",
      "rickety old bed, and a tumble-down table. A fireplace full of burning\n",
      "logs was painted on the wall opposite the door. Over the fire, there\n",
      "was painted a pot full of something which kept boiling happily away and\n",
      "sending up clouds of what looked like real steam. As soon as he reached home, Geppetto took his tools and began to cut and\n",
      "shape the wood into a Marionette. “What shall I call him?” he said to himself. “I think I’ll call him\n",
      "PINOCCHIO. This name will make his fortune. I knew a whole family of\n",
      "Pinocchi once--Pinocchio the father, Pinocchia the mother, and Pinocchi\n",
      "the children--and they were all lucky. The richest of them begged for\n",
      "his living.”\n",
      "\n",
      "After choosing the name for his Marionette, Geppetto set seriously to\n",
      "work to make the hair, the forehead, the eyes. Fancy his surprise\n",
      "when he noticed that these eyes moved and then stared fixedly at him. Geppetto, seeing this, felt insulted and said in a grieved tone:\n",
      "\n",
      "“Ugly wooden eyes, why do you stare so?”\n",
      "\n",
      "There was no answer. After the eyes, Geppetto made the nose, which began to stretch as soon\n",
      "as finished. It stretched and stretched and stretched till it became so\n",
      "long, it seemed endless. Poor Geppetto kept cutting it and cutting it, but the more he cut, the\n",
      "longer grew that impertinent nose. In despair he let it alone. Next he made the mouth. No sooner was it finished than it began to laugh and poke fun at him. “Stop laughing!” said Geppetto angrily; but he might as well have spoken\n",
      "to the wall. “Stop laughing, I say!” he roared in a voice of thunder. The mouth stopped laughing, but it stuck out a long tongue. Not wishing to start an argument, Geppetto made believe he saw nothing\n",
      "and went on with his work. After the mouth, he made the chin, then the\n",
      "neck, the shoulders, the stomach, the arms, and the hands. As he was about to put the last touches on the finger tips, Geppetto\n",
      "felt his wig being pulled off. He glanced up and what did he see? His\n",
      "yellow wig was in the Marionette’s hand. “Pinocchio, give me my wig!”\n",
      "\n",
      "But instead of giving it back, Pinocchio put it on his own head, which\n",
      "was half swallowed up in it. At that unexpected trick, Geppetto became very sad and downcast, more so\n",
      "than he had ever been before. “Pinocchio, you wicked boy!” he cried out. “You are not yet finished,\n",
      "and you start out by being impudent to your poor old father. Very bad,\n",
      "my son, very bad!”\n",
      "\n",
      "And he wiped away a tear. The legs and feet still had to be made. As soon as they were done,\n",
      "Geppetto felt a sharp kick on the tip of his nose. “I deserve it!” he said to himself. “I should have thought of this\n",
      "before I made him. Now it’s too late!”\n",
      "\n",
      "He took hold of the Marionette under the arms and put him on the floor\n",
      "to teach him to walk. Pinocchio’s legs were so stiff that he could not move them, and Geppetto\n",
      "held his hand and showed him how to put out one foot after the other. When his legs were limbered up, Pinocchio started walking by himself and\n",
      "ran all around the room. He came to the open door, and with one leap he\n",
      "was out into the street. Away he flew! Poor Geppetto ran after him but was unable to catch him, for Pinocchio\n",
      "ran in leaps and bounds, his two wooden feet, as they beat on the stones\n",
      "of the street, making as much noise as twenty peasants in wooden shoes. “Catch him! Catch him!” Geppetto kept shouting. But the people in the\n",
      "street, seeing a wooden Marionette running like the wind, stood still to\n",
      "stare and to laugh until they cried. At last, by sheer luck, a Carabineer* happened along, who, hearing all\n",
      "that noise, thought that it might be a runaway colt, and stood bravely\n",
      "in the middle of the street, with legs wide apart, firmly resolved to\n",
      "stop it and prevent any trouble. * A military policeman\n",
      "\n",
      "Pinocchio saw the Carabineer from afar and tried his best to escape\n",
      "between the legs of the big fellow, but without success. The Carabineer grabbed him by the nose (it was an extremely long one and\n",
      "seemed made on purpose for that very thing) and returned him to Mastro\n",
      "Geppetto. The little old man wanted to pull Pinocchio’s ears. Think how he felt\n",
      "when, upon searching for them, he discovered that he had forgotten to\n",
      "make them! All he could do was to seize Pinocchio by the back of the neck and take\n",
      "him home. As he was doing so, he shook him two or three times and said\n",
      "to him angrily:\n",
      "\n",
      "“We’re going home now. When we get home, then we’ll settle this matter!”\n",
      "\n",
      "Pinocchio, on hearing this, threw himself on the ground and refused to\n",
      "take another step. One person after another gathered around the two. Some said one thing, some another. “Poor Marionette,” called out a man. “I am not surprised he doesn’t want\n",
      "to go home. Geppetto, no doubt, will beat him unmercifully, he is so\n",
      "mean and cruel!”\n",
      "\n",
      "“Geppetto looks like a good man,” added another, “but with boys he’s a\n",
      "real tyrant. If we leave that poor Marionette in his hands he may tear\n",
      "him to pieces!”\n",
      "\n",
      "They said so much that, finally, the Carabineer ended matters by setting\n",
      "Pinocchio at liberty and dragging Geppetto to prison. The poor old\n",
      "fellow did not know how to defend himself, but wept and wailed like a\n",
      "child and said between his sobs:\n",
      "\n",
      "“Ungrateful boy! To think I tried so hard to make you a well-behaved\n",
      "Marionette! I deserve it, however! I should have given the matter more\n",
      "thought.”\n",
      "\n",
      "What happened after this is an almost unbelievable story, but you may\n",
      "read it, dear children, in the chapters that follow. CHAPTER 4\n",
      "\n",
      "The story of Pinocchio and the Talking Cricket, in which one sees that\n",
      "bad children do not like to be corrected by those who know more than\n",
      "they do. Very little time did it take to get poor old Geppetto to prison. In\n",
      "the meantime that rascal, Pinocchio, free now from the clutches of the\n",
      "Carabineer, was running wildly across fields and meadows, taking one\n",
      "short cut after another toward home. In his wild flight, he leaped over\n",
      "brambles and bushes, and across brooks and ponds, as if he were a goat\n",
      "or a hare chased by hounds. On reaching home, he found the house door half open. He slipped into\n",
      "the room, locked the door, and threw himself on the floor, happy at his\n",
      "escape. But his happiness lasted only a short time, for just then he heard\n",
      "someone saying:\n",
      "\n",
      "“Cri-cri-cri!”\n",
      "\n",
      "“Who is calling me?” asked Pinocchio, greatly frightened. “I am!”\n",
      "\n",
      "Pinocchio turned and saw a large cricket crawling slowly up the wall. “Tell me, Cricket, who are you?”\n",
      "\n",
      "“I am the Talking Cricket and I have been living in this room for more\n",
      "than one hundred years.”\n",
      "\n",
      "“Today, however, this room is mine,” said the Marionette, “and if you\n",
      "wish to do me a favor, get out now, and don’t turn around even once.”\n",
      "\n",
      "“I refuse to leave this spot,” answered the Cricket, “until I have told\n",
      "you a great truth.”\n",
      "\n",
      "“Tell it, then, and hurry.”\n",
      "\n",
      "“Woe to boys who refuse to obey their parents and run away from home! They will never be happy in this world, and when they are older they\n",
      "will be very sorry for it.”\n",
      "\n",
      "“Sing on, Cricket mine, as you please. What I know is, that tomorrow,\n",
      "at dawn, I leave this place forever. If I stay here the same thing will\n",
      "happen to me which happens to all other boys and girls. They are sent to\n",
      "school, and whether they want to or not, they must study. As for me,\n",
      "let me tell you, I hate to study! It’s much more fun, I think, to chase\n",
      "after butterflies, climb trees, and steal birds’ nests.”\n",
      "\n",
      "“Poor little silly! Don’t you know that if you go on like that, you\n",
      "will grow into a perfect donkey and that you’ll be the laughingstock of\n",
      "everyone?”\n",
      "\n",
      "“Keep still, you ugly Cricket!” cried Pinocchio. But the Cricket, who was a wise old philosopher, instead of being\n",
      "offended at Pinocchio’s impudence, continued in the same tone:\n",
      "\n",
      "“If you do not like going to school, why don’t you at least learn a\n",
      "trade, so that you can earn an honest living?”\n",
      "\n",
      "“Shall I tell you something?” asked Pinocchio, who was beginning to lose\n",
      "patience. “Of all the trades in the world, there is only one that really\n",
      "suits me.”\n",
      "\n",
      "“And what can that be?”\n",
      "\n",
      "“That of eating, drinking, sleeping, playing, and wandering around from\n",
      "morning till night.”\n",
      "\n",
      "“Let me tell you, for your own good, Pinocchio,” said the Talking\n",
      "Cricket in his calm voice, “that those who follow that trade always end\n",
      "up in the hospital or in prison.”\n",
      "\n",
      "“Careful, ugly Cricket! If you make me angry, you’ll be sorry!”\n",
      "\n",
      "“Poor Pinocchio, I am sorry for you.”\n",
      "\n",
      "“Why?”\n",
      "\n",
      "“Because you are a Marionette and, what is much worse, you have a wooden\n",
      "head.”\n",
      "\n",
      "At these last words, Pinocchio jumped up in a fury, took a hammer from\n",
      "the bench, and threw it with all his strength at the Talking Cricket. Perhaps he did not think he would strike it. But, sad to relate, my dear\n",
      "children, he did hit the Cricket, straight on its head. With a last weak “cri-cri-cri” the poor Cricket fell from the wall,\n",
      "dead! CHAPTER 5\n",
      "\n",
      "Pinocchio is hungry and looks for an egg to cook himself an omelet; but,\n",
      "to his surprise, the omelet flies out of the window. If the Cricket’s death scared Pinocchio at all, it was only for a very\n",
      "few moments. For, as night came on, a queer, empty feeling at the pit of\n",
      "his stomach reminded the Marionette that he had eaten nothing as yet. A boy’s appetite grows very fast, and in a few moments the queer, empty\n",
      "feeling had become hunger, and the hunger grew bigger and bigger, until\n",
      "soon he was as ravenous as a bear. Poor Pinocchio ran to the fireplace where the pot was boiling and\n",
      "stretched out his hand to take the cover off, but to his amazement the\n",
      "pot was only painted! Think how he felt! His long nose became at least\n",
      "two inches longer. He ran about the room, dug in all the boxes and drawers, and even looked\n",
      "under the bed in search of a piece of bread, hard though it might be,\n",
      "or a cookie, or perhaps a bit of fish. A bone left by a dog would have\n",
      "tasted good to him! But he found nothing. And meanwhile his hunger grew and grew. The only relief poor Pinocchio\n",
      "had was to yawn; and he certainly did yawn, such a big yawn that his\n",
      "mouth stretched out to the tips of his ears. Soon he became dizzy and\n",
      "faint. He wept and wailed to himself: “The Talking Cricket was right. It\n",
      "was wrong of me to disobey Father and to run away from home. If he were\n",
      "here now, I wouldn’t be so hungry! Oh, how horrible it is to be hungry!”\n",
      "\n",
      "Suddenly, he saw, among the sweepings in a corner, something round and\n",
      "white that looked very much like a hen’s egg. In a jiffy he pounced upon\n",
      "it. It was an egg. The Marionette’s joy knew no bounds. It is impossible to describe it,\n",
      "you must picture it to yourself. Certain that he was dreaming, he turned\n",
      "the egg over and over in his hands, fondled it, kissed it, and talked to\n",
      "it:\n",
      "\n",
      "“And now, how shall I cook you? Shall I make an omelet? No, it is better\n",
      "to fry you in a pan! Or shall I drink you? No, the best way is to fry\n",
      "you in the pan. You will taste better.”\n",
      "\n",
      "No sooner said than done. He placed a little pan over a foot warmer full\n",
      "of hot coals. In the pan, instead of oil or butter, he poured a\n",
      "little water. As soon as the water started to boil--tac!--he broke the\n",
      "eggshell. But in place of the white and the yolk of the egg, a little\n",
      "yellow Chick, fluffy and gay and smiling, escaped from it. Bowing\n",
      "politely to Pinocchio, he said to him:\n",
      "\n",
      "“Many, many thanks, indeed, Mr. Pinocchio, for having saved me the\n",
      "trouble of breaking my shell! Good-by and good luck to you and remember\n",
      "me to the family!”\n",
      "\n",
      "With these words he spread out his wings and, darting to the open\n",
      "window, he flew away into space till he was out of sight. The poor Marionette stood as if turned to stone, with wide eyes, open\n",
      "mouth, and the empty halves of the egg-shell in his hands. When he came\n",
      "to himself, he began to cry and shriek at the top of his lungs, stamping\n",
      "his feet on the ground and wailing all the while:\n",
      "\n",
      "“The Talking Cricket was right! If I had not run away from home and if\n",
      "Father were here now, I should not be dying of hunger. Oh, how horrible\n",
      "it is to be hungry!”\n",
      "\n",
      "And as his stomach kept grumbling more than ever and he had nothing\n",
      "to quiet it with, he thought of going out for a walk to the near-by\n",
      "village, in the hope of finding some charitable person who might give\n",
      "him a bit of bread. CHAPTER 6\n",
      "\n",
      "Pinocchio falls asleep with his feet on a foot warmer, and awakens the\n",
      "next day with his feet all burned off. Pinocchio hated the dark street, but he was so hungry that, in spite of\n",
      "it, he ran out of the house. The night was pitch black. It thundered,\n",
      "and bright flashes of lightning now and again shot across the sky,\n",
      "turning it into a sea of fire. An angry wind blew cold and raised dense\n",
      "clouds of dust, while the trees shook and moaned in a weird way. Pinocchio was greatly afraid of thunder and lightning, but the hunger he\n",
      "felt was far greater than his fear. In a dozen leaps and bounds, he\n",
      "came to the village, tired out, puffing like a whale, and with tongue\n",
      "hanging. The whole village was dark and deserted. The stores were closed, the\n",
      "doors, the windows. In the streets, not even a dog could be seen. It\n",
      "seemed the Village of the Dead. Pinocchio, in desperation, ran up to a doorway, threw himself upon the\n",
      "bell, and pulled it wildly, saying to himself: “Someone will surely\n",
      "answer that!”\n",
      "\n",
      "He was right. An old man in a nightcap opened the window and looked out. He called down angrily:\n",
      "\n",
      "“What do you want at this hour of night?”\n",
      "\n",
      "“Will you be good enough to give me a bit of bread? I am hungry.”\n",
      "\n",
      "“Wait a minute and I’ll come right back,” answered the old fellow,\n",
      "thinking he had to deal with one of those boys who love to roam around\n",
      "at night ringing people’s bells while they are peacefully asleep. After a minute or two, the same voice cried:\n",
      "\n",
      "“Get under the window and hold out your hat!”\n",
      "\n",
      "Pinocchio had no hat, but he managed to get under the window just in\n",
      "time to feel a shower of ice-cold water pour down on his poor wooden\n",
      "head, his shoulders, and over his whole body. He returned home as wet as a rag, and tired out from weariness and\n",
      "hunger. As he no longer had any strength left with which to stand, he sat down\n",
      "on a little stool and put his two feet on the stove to dry them. There he fell asleep, and while he slept, his wooden feet began to burn. Slowly, very slowly, they blackened and turned to ashes. Pinocchio snored away happily as if his feet were not his own. At dawn\n",
      "he opened his eyes just as a loud knocking sounded at the door. “Who is it?” he called, yawning and rubbing his eyes. “It is I,” answered a voice. It was the voice of Geppetto. CHAPTER 7\n",
      "\n",
      "Geppetto returns home and gives his own breakfast to the Marionette\n",
      "\n",
      "\n",
      "The poor Marionette, who was still half asleep, had not yet found out\n",
      "that his two feet were burned and gone. As soon as he heard his Father’s\n",
      "voice, he jumped up from his seat to open the door, but, as he did so,\n",
      "he staggered and fell headlong to the floor. In falling, he made as much noise as a sack of wood falling from the\n",
      "fifth story of a house. “Open the door for me!” Geppetto shouted from the street. “Father, dear Father, I can’t,” answered the Marionette in despair,\n",
      "crying and rolling on the floor. “Why can’t you?”\n",
      "\n",
      "“Because someone has eaten my feet.”\n",
      "\n",
      "“And who has eaten them?”\n",
      "\n",
      "“The cat,” answered Pinocchio, seeing that little animal busily playing\n",
      "with some shavings in the corner of the room. “Open! I say,” repeated Geppetto, “or I’ll give you a sound whipping\n",
      "when I get in.”\n",
      "\n",
      "“Father, believe me, I can’t stand up. Oh, dear! Oh, dear! I shall have\n",
      "to walk on my knees all my life.”\n",
      "\n",
      "Geppetto, thinking that all these tears and cries were only other pranks\n",
      "of the Marionette, climbed up the side of the house and went in through\n",
      "the window. At first he was very angry, but on seeing Pinocchio stretched out on the\n",
      "floor and really without feet, he felt very sad and sorrowful. Picking\n",
      "him up from the floor, he fondled and caressed him, talking to him while\n",
      "the tears ran down his cheeks:\n",
      "\n",
      "“My little Pinocchio, my dear little Pinocchio! How did you burn your\n",
      "feet?”\n",
      "\n",
      "“I don’t know, Father, but believe me, the night has been a terrible one\n",
      "and I shall remember it as long as I live. The thunder was so noisy and\n",
      "the lightning so bright--and I was hungry. And then the Talking Cricket\n",
      "said to me, ‘You deserve it; you were bad;’ and I said to him, ‘Careful,\n",
      "Cricket;’ and he said to me, ‘You are a Marionette and you have a wooden\n",
      "head;’ and I threw the hammer at him and killed him. It was his own\n",
      "fault, for I didn’t want to kill him. And I put the pan on the coals,\n",
      "but the Chick flew away and said, ‘I’ll see you again! Remember me to\n",
      "the family.’ And my hunger grew, and I went out, and the old man with a\n",
      "nightcap looked out of the window and threw water on me, and I came home\n",
      "and put my feet on the stove to dry them because I was still hungry,\n",
      "and I fell asleep and now my feet are gone but my hunger isn’t! Oh!--Oh!--Oh!” And poor Pinocchio began to scream and cry so loudly that\n",
      "he could be heard for miles around. Geppetto, who had understood nothing of all that jumbled talk, except\n",
      "that the Marionette was hungry, felt sorry for him, and pulling three\n",
      "pears out of his pocket, offered them to him, saying:\n",
      "\n",
      "“These three pears were for my breakfast, but I give them to you gladly. Eat them and stop weeping.”\n",
      "\n",
      "“If you want me to eat them, please peel them for me.”\n",
      "\n",
      "“Peel them?” asked Geppetto, very much surprised. “I should never have\n",
      "thought, dear boy of mine, that you were so dainty and fussy about your\n",
      "food. Bad, very bad! In this world, even as children, we must accustom\n",
      "ourselves to eat of everything, for we never know what life may hold in\n",
      "store for us!”\n",
      "\n",
      "“You may be right,” answered Pinocchio, “but I will not eat the pears if\n",
      "they are not peeled. I don’t like them.”\n",
      "\n",
      "And good old Geppetto took out a knife, peeled the three pears, and put\n",
      "the skins in a row on the table. Pinocchio ate one pear in a twinkling and started to throw the core\n",
      "away, but Geppetto held his arm. “Oh, no, don’t throw it away! Everything in this world may be of some\n",
      "use!”\n",
      "\n",
      "“But the core I will not eat!” cried Pinocchio in an angry tone. “Who knows?” repeated Geppetto calmly. And later the three cores were placed on the table next to the skins. Pinocchio had eaten the three pears, or rather devoured them. Then he\n",
      "yawned deeply, and wailed:\n",
      "\n",
      "“I’m still hungry.”\n",
      "\n",
      "“But I have no more to give you.”\n",
      "\n",
      "“Really, nothing--nothing?”\n",
      "\n",
      "“I have only these three cores and these skins.”\n",
      "\n",
      "“Very well, then,” said Pinocchio, “if there is nothing else I’ll eat\n",
      "them.”\n",
      "\n",
      "At first he made a wry face, but, one after another, the skins and the\n",
      "cores disappeared. “Ah! Now I feel fine!” he said after eating the last one. “You see,” observed Geppetto, “that I was right when I told you that one\n",
      "must not be too fussy and too dainty about food. My dear, we never know\n",
      "what life may have in store for us!”\n",
      "\n",
      "\n",
      "\n",
      "\n",
      "CHAPTER 8\n",
      "\n",
      "Geppetto makes Pinocchio a new pair of feet, and sells his coat to buy\n",
      "him an A-B-C book. The Marionette, as soon as his hunger was appeased, started to grumble\n",
      "and cry that he wanted a new pair of feet. But Mastro Geppetto, in order to punish him for his mischief, let him\n",
      "alone the whole morning. After dinner he said to him:\n",
      "\n",
      "“Why should I make your feet over again? To see you run away from home\n",
      "once more?”\n",
      "\n",
      "“I promise you,” answered the Marionette, sobbing, “that from now on\n",
      "I’ll be good--”\n",
      "\n",
      "“Boys always promise that when they want something,” said Geppetto. “I promise to go to school every day, to study, and to succeed--”\n",
      "\n",
      "“Boys always sing that song when they want their own will.”\n",
      "\n",
      "“But I am not like other boys! I am better than all of them and I always\n",
      "tell the truth. I promise you, Father, that I’ll learn a trade, and I’ll\n",
      "be the comfort and staff of your old age.”\n",
      "\n",
      "Geppetto, though trying to look very stern, felt his eyes fill with\n",
      "tears and his heart soften when he saw Pinocchio so unhappy. He said\n",
      "no more, but taking his tools and two pieces of wood, he set to work\n",
      "diligently. In less than an hour the feet were finished, two slender, nimble little\n",
      "feet, strong and quick, modeled as if by an artist’s hands. “Close your eyes and sleep!” Geppetto then said to the Marionette. Pinocchio closed his eyes and pretended to be asleep, while Geppetto\n",
      "stuck on the two feet with a bit of glue melted in an eggshell, doing\n",
      "his work so well that the joint could hardly be seen. As soon as the Marionette felt his new feet, he gave one leap from the\n",
      "table and started to skip and jump around, as if he had lost his head\n",
      "from very joy. “To show you how grateful I am to you, Father, I’ll go to school now. But to go to school I need a suit of clothes.”\n",
      "\n",
      "Geppetto did not have a penny in his pocket, so he made his son a little\n",
      "suit of flowered paper, a pair of shoes from the bark of a tree, and a\n",
      "tiny cap from a bit of dough. Pinocchio ran to look at himself in a bowl of water, and he felt so\n",
      "happy that he said proudly:\n",
      "\n",
      "“Now I look like a gentleman.”\n",
      "\n",
      "“Truly,” answered Geppetto. “But remember that fine clothes do not make\n",
      "the man unless they be neat and clean.”\n",
      "\n",
      "“Very true,” answered Pinocchio, “but, in order to go to school, I still\n",
      "need something very important.”\n",
      "\n",
      "“What is it?”\n",
      "\n",
      "“An A-B-C book.”\n",
      "\n",
      "“To be sure! But how shall we get it?”\n",
      "\n",
      "“That’s easy. We’ll go to a bookstore and buy it.”\n",
      "\n",
      "“And the money?”\n",
      "\n",
      "“I have none.”\n",
      "\n",
      "“Neither have I,” said the old man sadly. Pinocchio, although a happy boy always, became sad and downcast at these\n",
      "words. When poverty shows itself, even mischievous boys understand what\n",
      "it means. “What does it matter, after all?” cried Geppetto all at once, as he\n",
      "jumped up from his chair. Putting on his old coat, full of darns and\n",
      "patches, he ran out of the house without another word. After a while he returned. In his hands he had the A-B-C book for his\n",
      "son, but the old coat was gone. The poor fellow was in his shirt sleeves\n",
      "and the day was cold. “Where’s your coat, Father?”\n",
      "\n",
      "“I have sold it.”\n",
      "\n",
      "“Why did you sell your coat?”\n",
      "\n",
      "“It was too warm.”\n",
      "\n",
      "Pinocchio understood the answer in a twinkling, and, unable to restrain\n",
      "his tears, he jumped on his father’s neck and kissed him over and over. CHAPTER 9\n",
      "\n",
      "Pinocchio sells his A-B-C book to pay his way into the Marionette\n",
      "Theater. See Pinocchio hurrying off to school with his new A-B-C book under\n",
      "his arm! As he walked along, his brain was busy planning hundreds of\n",
      "wonderful things, building hundreds of castles in the air. Talking to\n",
      "himself, he said:\n",
      "\n",
      "“In school today, I’ll learn to read, tomorrow to write, and the day\n",
      "after tomorrow I’ll do arithmetic. Then, clever as I am, I can earn a\n",
      "lot of money. With the very first pennies I make, I’ll buy Father a new\n",
      "cloth coat. Cloth, did I say? No, it shall be of gold and silver with\n",
      "diamond buttons. That poor man certainly deserves it; for, after all,\n",
      "isn’t he in his shirt sleeves because he was good enough to buy a\n",
      "book for me? On this cold day, too! Fathers are indeed good to their\n",
      "children!”\n",
      "\n",
      "As he talked to himself, he thought he heard sounds of pipes and drums\n",
      "coming from a distance: pi-pi-pi, pi-pi-pi. . .zum, zum, zum, zum. He stopped to listen. Those sounds came from a little street that led to\n",
      "a small village along the shore. “What can that noise be? What a nuisance that I have to go to school! Otherwise.\n"
     ]
    }
   ],
   "execution_count": 23
  },
  {
   "metadata": {
    "ExecuteTime": {
     "end_time": "2024-04-18T20:34:15.841887Z",
     "start_time": "2024-04-18T20:34:15.840474Z"
    }
   },
   "cell_type": "code",
   "source": "print(len(docs))",
   "id": "8870f15051044de6",
   "outputs": [
    {
     "name": "stdout",
     "output_type": "stream",
     "text": [
      "22\n"
     ]
    }
   ],
   "execution_count": 24
  },
  {
   "metadata": {
    "ExecuteTime": {
     "end_time": "2024-04-18T20:34:25.464007Z",
     "start_time": "2024-04-18T20:34:15.842430Z"
    }
   },
   "cell_type": "code",
   "source": [
    "text_splitter = SemanticChunker(model, breakpoint_threshold_type=\"interquartile\")\n",
    "docs = text_splitter.create_documents([corpus])"
   ],
   "id": "c3e089448c014b22",
   "outputs": [],
   "execution_count": 25
  },
  {
   "metadata": {
    "ExecuteTime": {
     "end_time": "2024-04-18T20:34:25.466341Z",
     "start_time": "2024-04-18T20:34:25.464589Z"
    }
   },
   "cell_type": "code",
   "source": "print(docs[0].page_content)",
   "id": "8b36b8e57f0946ff",
   "outputs": [
    {
     "name": "stdout",
     "output_type": "stream",
     "text": [
      "The Project Gutenberg eBook of The Adventures of Pinocchio\n",
      "\n",
      "This ebook is for the use of anyone anywhere in the United States and\n",
      "most other parts of the world at no cost and with almost no restrictions\n",
      "whatsoever. You may copy it, give it away or re-use it under the terms\n",
      "of the Project Gutenberg License included with this ebook or online\n",
      "at www.gutenberg.org. If you are not located in the United States,\n",
      "you will have to check the laws of the country where you are located\n",
      "before using this eBook. Title: The Adventures of Pinocchio\n",
      "\n",
      "Author: Carlo Collodi\n",
      "\n",
      "Translator: Carol Della Chiesa\n",
      "\n",
      "Release date: January 12, 2006 [eBook #500]\n",
      "                Most recently updated: September 28, 2020\n",
      "\n",
      "Language: English\n",
      "\n",
      "Credits: Produced by Charles Keller (for Tina); and David Widger\n",
      "\n",
      "\n",
      "*** START OF THE PROJECT GUTENBERG EBOOK THE ADVENTURES OF PINOCCHIO ***\n",
      "\n",
      "\n",
      "\n",
      "\n",
      "Produced by Charles Keller (for Tina); and David Widger\n",
      "\n",
      "\n",
      "\n",
      "\n",
      "\n",
      "\n",
      "\n",
      "Dashes; small checks; quick pass; gutchecked twice; jeebies; spellcheck\n",
      "\n",
      "\n",
      "THE ADVENTURES OF PINOCCHIO\n",
      "\n",
      "by C. Collodi\n",
      "\n",
      "[Pseudonym of Carlo Lorenzini]\n",
      "\n",
      "\n",
      "Translated from the Italian by Carol Della Chiesa\n",
      "\n",
      "\n",
      "\n",
      "\n",
      "CHAPTER 1\n",
      "\n",
      "How it happened that Mastro Cherry, carpenter, found a piece of wood\n",
      "that wept and laughed like a child. Centuries ago there lived--\n",
      "\n",
      "“A king!” my little readers will say immediately.\n"
     ]
    }
   ],
   "execution_count": 26
  },
  {
   "metadata": {
    "ExecuteTime": {
     "end_time": "2024-04-18T20:34:25.468604Z",
     "start_time": "2024-04-18T20:34:25.467071Z"
    }
   },
   "cell_type": "code",
   "source": "print(len(docs))",
   "id": "b1aa414eaea9a49e",
   "outputs": [
    {
     "name": "stdout",
     "output_type": "stream",
     "text": [
      "120\n"
     ]
    }
   ],
   "execution_count": 27
  },
  {
   "metadata": {},
   "cell_type": "markdown",
   "source": "## Agentic Chunking",
   "id": "99e63bc523a8974b"
  },
  {
   "metadata": {
    "ExecuteTime": {
     "end_time": "2024-04-18T20:34:25.472724Z",
     "start_time": "2024-04-18T20:34:25.471648Z"
    }
   },
   "cell_type": "code",
   "source": "",
   "id": "862882aa06a6968a",
   "outputs": [],
   "execution_count": 27
  },
  {
   "metadata": {
    "ExecuteTime": {
     "end_time": "2024-04-18T20:34:25.474387Z",
     "start_time": "2024-04-18T20:34:25.473266Z"
    }
   },
   "cell_type": "code",
   "source": "",
   "id": "f495e406b10311b1",
   "outputs": [],
   "execution_count": 27
  },
  {
   "metadata": {
    "ExecuteTime": {
     "end_time": "2024-04-18T20:34:25.476202Z",
     "start_time": "2024-04-18T20:34:25.474956Z"
    }
   },
   "cell_type": "code",
   "source": "",
   "id": "1bd820ec0aa802c7",
   "outputs": [],
   "execution_count": 27
  },
  {
   "metadata": {
    "ExecuteTime": {
     "end_time": "2024-04-18T20:34:25.477858Z",
     "start_time": "2024-04-18T20:34:25.476793Z"
    }
   },
   "cell_type": "code",
   "source": "",
   "id": "e6051240e7cde593",
   "outputs": [],
   "execution_count": 27
  }
 ],
 "metadata": {
  "kernelspec": {
   "display_name": "Python 3",
   "language": "python",
   "name": "python3"
  },
  "language_info": {
   "codemirror_mode": {
    "name": "ipython",
    "version": 2
   },
   "file_extension": ".py",
   "mimetype": "text/x-python",
   "name": "python",
   "nbconvert_exporter": "python",
   "pygments_lexer": "ipython2",
   "version": "2.7.6"
  }
 },
 "nbformat": 4,
 "nbformat_minor": 5
}
